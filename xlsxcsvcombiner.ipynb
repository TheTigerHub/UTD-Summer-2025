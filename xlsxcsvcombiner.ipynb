{
  "nbformat": 4,
  "nbformat_minor": 0,
  "metadata": {
    "colab": {
      "provenance": [],
      "authorship_tag": "ABX9TyOCC4fZXqn9mkxOaeNLXhZZ",
      "include_colab_link": true
    },
    "kernelspec": {
      "name": "python3",
      "display_name": "Python 3"
    },
    "language_info": {
      "name": "python"
    }
  },
  "cells": [
    {
      "cell_type": "markdown",
      "metadata": {
        "id": "view-in-github",
        "colab_type": "text"
      },
      "source": [
        "<a href=\"https://colab.research.google.com/github/tigerzhao0/UTD-Summer-2025/blob/main/xlsxcsvcombiner.ipynb\" target=\"_parent\"><img src=\"https://colab.research.google.com/assets/colab-badge.svg\" alt=\"Open In Colab\"/></a>"
      ]
    },
    {
      "cell_type": "code",
      "execution_count": null,
      "metadata": {
        "id": "f5XACTJ6TgYf"
      },
      "outputs": [],
      "source": [
        "# prompt: create code to combine 16 xlsx files and download a finished file\n",
        "\n",
        "!pip install pandas\n",
        "\n",
        "import pandas as pd\n",
        "import os\n",
        "\n",
        "# Assuming the xlsx files are in the current directory\n",
        "# List all xlsx files\n",
        "xlsx_files = [f for f in os.listdir('.') if f.endswith('.xlsx')]\n",
        "\n",
        "# Ensure there are xlsx files to combine\n",
        "if not xlsx_files:\n",
        "    print(\"No xlsx files found in the current directory.\")\n",
        "else:\n",
        "    # Create an empty list to hold dataframes\n",
        "    all_data = []\n",
        "\n",
        "    # Read each xlsx file into a dataframe and append to the list\n",
        "    for file in xlsx_files:\n",
        "        df = pd.read_excel(file)\n",
        "        all_data.append(df)\n",
        "\n",
        "    # Concatenate all dataframes into a single dataframe\n",
        "    combined_df = pd.concat(all_data, ignore_index=True)\n",
        "\n",
        "    # Define the output filename\n",
        "    output_filename = 'combined_output.xlsx'\n",
        "\n",
        "    # Write the combined dataframe to a new xlsx file\n",
        "    combined_df.to_excel(output_filename, index=False)\n",
        "\n",
        "    print(f\"Successfully combined {len(xlsx_files)} files into {output_filename}\")\n",
        "\n",
        "    # Download the combined file\n",
        "    from google.colab import files\n",
        "    files.download(output_filename)"
      ]
    }
  ]
}